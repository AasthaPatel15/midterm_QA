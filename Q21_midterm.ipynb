{
  "nbformat": 4,
  "nbformat_minor": 0,
  "metadata": {
    "colab": {
      "provenance": []
    },
    "kernelspec": {
      "name": "python3",
      "display_name": "Python 3"
    },
    "language_info": {
      "name": "python"
    }
  },
  "cells": [
    {
      "cell_type": "code",
      "execution_count": 6,
      "metadata": {
        "colab": {
          "base_uri": "https://localhost:8080/"
        },
        "id": "J3cOu9FjNX6a",
        "outputId": "bfca8e6c-984b-4c6b-b57f-3dc182363af1"
      },
      "outputs": [
        {
          "output_type": "stream",
          "name": "stdout",
          "text": [
            "5.0\n",
            "1.3333333333333333\n"
          ]
        }
      ],
      "source": [
        "import math\n",
        "\n",
        "class Point:\n",
        "    def __init__(s, a=0, b=0):\n",
        "        s.a = a\n",
        "        s.b = b\n",
        "\n",
        "class Segment:\n",
        "    def __init__(s, pointer1, pointer2):\n",
        "        s.pointer1 = pointer1\n",
        "        s.pointer2 = pointer2\n",
        "\n",
        "    def length(s):\n",
        "        a1, b1 = s.pointer1.a, s.pointer1.b\n",
        "        a2, b2 = s.pointer2.a, s.pointer2.b\n",
        "        return math.sqrt((a2 - a1) ** 2 + (b2 - b1) ** 2)\n",
        "\n",
        "    def slope(s):\n",
        "        a1, b1 = s.pointer1.a, s.pointer1.b\n",
        "        a2, b2 = s.pointer2.a, s.pointer2.b\n",
        "        if a1 == a2:\n",
        "            return None\n",
        "        return (b2 - b1) / (a2 - a1)\n",
        "\n",
        "\n",
        "p1 = Point(3, 4)\n",
        "p2 = Point()\n",
        "segments = Segment(p1, p2)\n",
        "print(segments.length())\n",
        "print(segments.slope())\n"
      ]
    }
  ]
}