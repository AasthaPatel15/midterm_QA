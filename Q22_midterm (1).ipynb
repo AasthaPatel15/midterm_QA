{
  "nbformat": 4,
  "nbformat_minor": 0,
  "metadata": {
    "colab": {
      "provenance": []
    },
    "kernelspec": {
      "name": "python3",
      "display_name": "Python 3"
    },
    "language_info": {
      "name": "python"
    }
  },
  "cells": [
    {
      "cell_type": "code",
      "source": [
        "import sqlite3\n",
        "\n",
        "c = sqlite3.connect(':memory:')\n",
        "cs = c.cursor()\n",
        "\n",
        "cs.execute('''\n",
        "    CREATE TABLE Weather (\n",
        "        id INT,\n",
        "        recordDate DATE,\n",
        "        temperature INT\n",
        "    )\n",
        "''')\n",
        "\n",
        "table_data = [(1, '2015-01-01', 10),\n",
        "        (2, '2015-01-02', 25),\n",
        "        (3, '2015-01-03', 20),\n",
        "        (4, '2015-01-04', 30)]\n",
        "\n",
        "cs.executemany('INSERT INTO Weather VALUES (?, ?, ?)', table_data)\n",
        "\n",
        "c.commit()\n",
        "\n",
        "cs.execute(\"SELECT name FROM sqlite_master WHERE type='table';\")\n",
        "tables = cs.fetchall()\n",
        "print(tables)\n",
        "\n",
        "cs.execute('''\n",
        "    SELECT w1.id\n",
        "    FROM Weather w1\n",
        "    JOIN Weather w2 ON w1.recordDate = DATE(w2.recordDate, '-1 day')\n",
        "    WHERE w1.temperature > w2.temperature\n",
        "''')\n",
        "\n",
        "r = cs.fetchall()\n",
        "\n",
        "for row in r:\n",
        "    print(row[0])\n",
        "\n",
        "c.close()\n"
      ],
      "metadata": {
        "colab": {
          "base_uri": "https://localhost:8080/"
        },
        "id": "vaW0xUROVZ8U",
        "outputId": "0c0f3fd1-45d3-4496-909f-af28fe4c3c18"
      },
      "execution_count": 15,
      "outputs": [
        {
          "output_type": "stream",
          "name": "stdout",
          "text": [
            "[('Weather',)]\n",
            "2\n"
          ]
        }
      ]
    }
  ]
}