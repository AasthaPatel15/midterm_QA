{
  "nbformat": 4,
  "nbformat_minor": 0,
  "metadata": {
    "colab": {
      "provenance": []
    },
    "kernelspec": {
      "name": "python3",
      "display_name": "Python 3"
    },
    "language_info": {
      "name": "python"
    }
  },
  "cells": [
    {
      "cell_type": "code",
      "source": [
        "def tough(i, p):\n",
        "    if p == 0:\n",
        "        return\n",
        "    tough(i, p - 1)\n",
        "    print(\" \" * i + \"* \" * p)\n",
        "    tough(i + p, p - 1)\n",
        "\n",
        "tough(0, 0)\n",
        "print(\"\\n\")\n",
        "tough(0, 1)\n",
        "print(\"\\n\")\n",
        "tough(0, 2)\n",
        "print(\"\\n\")\n",
        "tough(0, 3)\n"
      ],
      "metadata": {
        "colab": {
          "base_uri": "https://localhost:8080/"
        },
        "id": "YJ3zwKHVXWZZ",
        "outputId": "b6ffc1df-a11e-4566-bc90-efc5d0da3fa9"
      },
      "execution_count": 10,
      "outputs": [
        {
          "output_type": "stream",
          "name": "stdout",
          "text": [
            "\n",
            "\n",
            "* \n",
            "\n",
            "\n",
            "* \n",
            "* * \n",
            "  * \n",
            "\n",
            "\n",
            "* \n",
            "* * \n",
            "  * \n",
            "* * * \n",
            "   * \n",
            "   * * \n",
            "     * \n"
          ]
        }
      ]
    }
  ]
}